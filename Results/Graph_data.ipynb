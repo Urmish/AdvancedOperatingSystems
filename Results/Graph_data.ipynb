{
 "cells": [
  {
   "cell_type": "code",
   "execution_count": 133,
   "metadata": {
    "collapsed": false
   },
   "outputs": [],
   "source": [
    "def intfloat(d):\n",
    "    try:\n",
    "        return int(d)\n",
    "    except ValueError:\n",
    "        return float(d)\n",
    "\n",
    "def readstat(slines):\n",
    "    statname = slines[0]\n",
    "    data = dict()\n",
    "    for line in slines[1:]:\n",
    "        values = line.split(',')\n",
    "        rowname = values[0]\n",
    "        #print values[1:]\n",
    "        \n",
    "        # for empty lines\n",
    "        if values[1] == '' or values[1] == 'NA':\n",
    "            values = []\n",
    "        data[rowname] = [intfloat(el) for el in values[1:]]\n",
    "    #print statname, '=\\n', data\n",
    "    return statname, data\n",
    "\n",
    "# -- contains stat file information\n",
    "nativedata = dict()\n",
    "    \n",
    "def parse_csv(csvfile):\n",
    "    cf = open(csvfile, 'r')\n",
    "    slines = []\n",
    "    for line in cf:\n",
    "        # handle empty case\n",
    "        if line.strip() == '' and len(slines)==0:\n",
    "            continue\n",
    "        # empty line marks the end of a stat\n",
    "        if line.strip() == '':\n",
    "            statname, sdata = readstat(slines)\n",
    "            nativedata[statname] = sdata\n",
    "            slines = []\n",
    "            continue\n",
    "        slines.append(line.rstrip())\n",
    "    cf.close()\n",
    "        "
   ]
  },
  {
   "cell_type": "code",
   "execution_count": 154,
   "metadata": {
    "collapsed": false
   },
   "outputs": [],
   "source": [
    "parse_csv('CombineResults/write_singleByte_numIter1.csv')"
   ]
  },
  {
   "cell_type": "code",
   "execution_count": 159,
   "metadata": {
    "collapsed": false
   },
   "outputs": [],
   "source": [
    "\"\"\"\n",
    "Bar chart demo with pairs of bars grouped for easy comparison.\n",
    "\"\"\"\n",
    "%matplotlib inline\n",
    "import numpy as np\n",
    "import matplotlib.pyplot as plt\n",
    "\n",
    "def barchart(df, statname, title, configs=['malloc','pmfs','tmpfs','ext4'], midx=8):\n",
    "    \"\"\" Plot the statname for given configs\n",
    "        this assumes df contains the whole data dict\n",
    "        midx is the max index to plot for, setting this to 4 will plot\n",
    "        for page size 1 to 64 only\"\"\"\n",
    "    mydata = df[statname]\n",
    "    colors = ['b', 'g', 'r', 'y']\n",
    "    \n",
    "    if 'Pages' in mydata.keys():   \n",
    "        pages = mydata['Pages'][:midx]\n",
    "    elif 'Prefetched Pages' in mydata.keys():\n",
    "        pages = mydata['Prefetched Pages'][:midx]\n",
    "        configs = ['pmfs']\n",
    "    else:\n",
    "        print \"Unable to find metric to plot as X axis : \", title\n",
    "        return\n",
    "    \n",
    "    n_groups = len(pages)   \n",
    "    index = np.arange(n_groups)\n",
    "    bar_width = 0.8 / len(configs)\n",
    "\n",
    "    fig, ax = plt.subplots()\n",
    "    opacity = 1.0\n",
    "    #error_config = {'ecolor': '0.3'}\n",
    "\n",
    "    i = 0\n",
    "    for config in configs:\n",
    "        datarow = mydata[config][:midx]\n",
    "        if len(datarow) == 0:\n",
    "            continue\n",
    "        rects1 = plt.bar(index + i* bar_width,\n",
    "                 datarow, bar_width,\n",
    "                 alpha=opacity,\n",
    "                 color=colors[i],\n",
    "                 #yerr=std_men,\n",
    "                 #error_kw=error_config,\n",
    "                 label=config\n",
    "                        )\n",
    "        i = i + 1\n",
    "\n",
    "    plt.xlabel('Number of Pages')\n",
    "    plt.ylabel(statname)\n",
    "    plt.title(title)\n",
    "    plt.xticks(index + 0.4, pages)\n",
    "    plt.legend(loc='upper left', ncol=2, fancybox=True)\n",
    "    plt.tight_layout()\n",
    "    #plt.savefig(\"Graphs/%s_%s.png\"%(title,statname))\n",
    "    plt.show()"
   ]
  },
  {
   "cell_type": "code",
   "execution_count": 163,
   "metadata": {
    "collapsed": false
   },
   "outputs": [
    {
     "data": {
      "image/png": "[encoded data removed]",
      "text/plain": [
       "<matplotlib.figure.Figure at 0x3925690>"
      ]
     },
     "metadata": {},
     "output_type": "display_data"
    }
   ],
   "source": [
    "barchart(nativedata, 'cache-references', 'map_private_write_singleByte_1 pages0-64',midx=4)"
   ]
  },
  {
   "cell_type": "code",
   "execution_count": 158,
   "metadata": {
    "collapsed": false
   },
   "outputs": [
    {
     "data": {
      "text/plain": [
       "{'Pages': [1, 2, 16, 64, 256, 1024, 4192, 16768, 128000],\n",
       " 'ext4': [27581, 28065, 29075, 2839, 8791, 70770, 222322, 776694, 5650834],\n",
       " 'malloc': [149, 189, 210, 429, 1205, 4327, 16387, 52142, 369900],\n",
       " 'pmfs': [304, 308, 326, 529, 1224, 3995, 15229, 45535, 305802],\n",
       " 'tmpfs': [265, 268, 341, 435, 1032, 3167, 11842, 37767, 236773]}"
      ]
     },
     "execution_count": 158,
     "metadata": {},
     "output_type": "execute_result"
    }
   ],
   "source": [
    "nativedata['Time']"
   ]
  },
  {
   "cell_type": "code",
   "execution_count": null,
   "metadata": {
    "collapsed": true
   },
   "outputs": [],
   "source": []
  }
 ],
 "metadata": {
  "kernelspec": {
   "display_name": "Python 2",
   "language": "python",
   "name": "python2"
  },
  "language_info": {
   "codemirror_mode": {
    "name": "ipython",
    "version": 2
   },
   "file_extension": ".py",
   "mimetype": "text/x-python",
   "name": "python",
   "nbconvert_exporter": "python",
   "pygments_lexer": "ipython2",
   "version": "2.7.3"
  }
 },
 "nbformat": 4,
 "nbformat_minor": 0
}
